{
 "cells": [
  {
   "cell_type": "code",
   "execution_count": 1,
   "metadata": {},
   "outputs": [],
   "source": [
    "import pandas as pd\n",
    "import numpy as np\n",
    "import fitz\n",
    "import os\n",
    "\n",
    "import pytesseract\n",
    "from PIL import Image"
   ]
  },
  {
   "cell_type": "code",
   "execution_count": 2,
   "metadata": {},
   "outputs": [],
   "source": [
    "# import module\n",
    "from pdf2image import convert_from_path"
   ]
  },
  {
   "cell_type": "code",
   "execution_count": null,
   "metadata": {},
   "outputs": [],
   "source": [
    "\n",
    "\n",
    "pdffile = \"data/AC-4-PS-105.pdf\"\n",
    "doc = fitz.open(pdffile)\n",
    "\n",
    "for pages in range(doc.page_count):\n",
    "    page = doc.load_page(pages)  # number of page\n",
    "    pix = page.get_pixmap()\n",
    "    output = f\"data/output_images/doc_page_{pages}.jpeg\"\n",
    "    pix.save(output)\n",
    "# doc.close()"
   ]
  },
  {
   "cell_type": "code",
   "execution_count": null,
   "metadata": {},
   "outputs": [],
   "source": [
    "def convert_pdf_pages_to_images(pdf_file_path, output_path):\n",
    "\n",
    "    \"\"\"\n",
    "    Converts the each page of the file into png image\n",
    "    \"\"\"\n",
    "\n",
    "    pdffile = pdf_file_path\n",
    "    file_name = pdffile.split(\"/\")[-1].removesuffix(\".pdf\")\n",
    "    doc = fitz.open(pdffile)\n",
    "\n",
    "    #saving the pages as images in the \n",
    "    for pages in range(doc.page_count):\n",
    "        page = doc.load_page(pages)  # number of page\n",
    "        pix = page.get_pixmap()\n",
    "        output = f\"{output_path}/{file_name}_{pages}.jpeg\"\n",
    "        pix.save(output)"
   ]
  },
  {
   "cell_type": "code",
   "execution_count": null,
   "metadata": {},
   "outputs": [],
   "source": [
    "convert_pdf_pages_to_images(\"data/AC-4-PS-105.pdf\", \"data/output_images\")"
   ]
  },
  {
   "cell_type": "code",
   "execution_count": null,
   "metadata": {},
   "outputs": [],
   "source": [
    "import cv2\n",
    "import numpy as np\n",
    "from matplotlib import pyplot as plt\n",
    "from IPython.display import Image, display\n",
    "\n",
    "def detect_and_display_rectangles(image_path, length_threshold, breadth_threshold):\n",
    "    # Read the image\n",
    "    image = cv2.imread(image_path)\n",
    "\n",
    "    # Convert the image to grayscale\n",
    "    gray = cv2.cvtColor(image, cv2.COLOR_BGR2GRAY)\n",
    "\n",
    "    # Apply GaussianBlur to reduce noise and help with contour detection\n",
    "    blurred = cv2.GaussianBlur(gray, (5, 5), 0)\n",
    "\n",
    "    # Use Canny edge detector to find edges in the image\n",
    "    edges = cv2.Canny(blurred, 50, 150)\n",
    "\n",
    "    # Find contours in the edges\n",
    "    contours, _ = cv2.findContours(edges, cv2.RETR_EXTERNAL, cv2.CHAIN_APPROX_SIMPLE)\n",
    "\n",
    "    # Initialize a counter for rectangles\n",
    "    rectangle_count = 0\n",
    "\n",
    "    # Iterate through the contours\n",
    "    for contour in contours:\n",
    "        # Approximate the contour to a polygon\n",
    "        epsilon = 0.04 * cv2.arcLength(contour, True)\n",
    "        approx = cv2.approxPolyDP(contour, epsilon, True)\n",
    "\n",
    "        # If the polygon has 4 vertices, it's likely a rectangle\n",
    "        if len(approx) == 4:\n",
    "            # Get the bounding rectangle around the contour\n",
    "            x, y, w, h = cv2.boundingRect(approx)\n",
    "\n",
    "            # Check if both length and breadth meet the thresholds\n",
    "            if w >= length_threshold and h >= breadth_threshold:\n",
    "                # Draw the rectangle on the original image\n",
    "                cv2.drawContours(image, [approx], 0, (0, 255, 0), 2)\n",
    "                rectangle_count += 1\n",
    "\n",
    "                print(f\"Length of the rectangle detected: {w}\\nBreadth of the rectangle detected:{h}\")\n",
    "\n",
    "    # Display the result image in the notebook\n",
    "    plt.imshow(cv2.cvtColor(image, cv2.COLOR_BGR2RGB))\n",
    "    plt.axis('off')\n",
    "    plt.show()\n",
    "\n",
    "    # Print the count of rectangles detected\n",
    "    print(f\"Number of rectangles with length >= {length_threshold} and breadth >= {breadth_threshold}: {rectangle_count}\")\n",
    "\n",
    "# Replace 'your_image.png' with the actual path to your PNG image\n",
    "# Set the desired length and breadth thresholds\n",
    "image_path = 'data/output_images/AC-4-PS-105_1.jpeg'\n",
    "length_threshold = 100  # Replace with your desired length threshold\n",
    "breadth_threshold = 70  # Replace with your desired breadth threshold\n",
    "detect_and_display_rectangles(image_path, length_threshold, breadth_threshold)\n"
   ]
  },
  {
   "cell_type": "code",
   "execution_count": 4,
   "metadata": {},
   "outputs": [
    {
     "name": "stdout",
     "output_type": "stream",
     "text": [
      "pop ceric yiny Jevor iy eet:\n",
      "—_ on =a 7\n",
      "— = sone\n",
      "\n",
      "=. Fe oe =\n",
      "\n",
      "= mo | See ES -\n",
      "ES. ape ae.\n",
      "\n",
      "— | | =\n",
      "a am Sone\n",
      "\n",
      "seats mw EEE mm SESE\n",
      "S575. se. san.\n",
      "\n",
      "—) = =a | =\n",
      "= Pio ped\n",
      "\n",
      "a. oo || SEIS nom || SSE ce en\n",
      "— = a) a =\n",
      "Ca . Ss\n",
      "\n",
      "Shey toe nce (Promo || Satan ie re ce Prom ||) Seta io ae oe\n",
      "sa = =| =\n",
      "=e 2 =e\n",
      "\n",
      "are. roe | SE ce roe | SE ase noo\n",
      "— as | =\n",
      "eae Ears or\n",
      "\n",
      "SSS. pro | eee a roe || SE fed\n",
      "st snenovane pierre speasesaan\n",
      "\n"
     ]
    }
   ],
   "source": [
    "# Open the image file\n",
    "image = Image.open('data/output_images/AC-4-PS-105_10.jpeg')\n",
    "\n",
    "# Perform OCR using PyTesseract\n",
    "text = pytesseract.image_to_string(image)\n",
    "\n",
    "# Print the extracted text\n",
    "print(text)"
   ]
  },
  {
   "cell_type": "code",
   "execution_count": null,
   "metadata": {},
   "outputs": [],
   "source": [
    "images_path = \"data/output_images/\"\n",
    "\n",
    "for image in os.listdir(images_path):\n",
    "    print(f\"detecting rectangles in {os.path.join(images_path, image)}\")\n",
    "\n",
    "    i = 0\n",
    "\n",
    "    "
   ]
  },
  {
   "cell_type": "markdown",
   "metadata": {},
   "source": []
  }
 ],
 "metadata": {
  "kernelspec": {
   "display_name": "ElectionBot",
   "language": "python",
   "name": "python3"
  },
  "language_info": {
   "codemirror_mode": {
    "name": "ipython",
    "version": 3
   },
   "file_extension": ".py",
   "mimetype": "text/x-python",
   "name": "python",
   "nbconvert_exporter": "python",
   "pygments_lexer": "ipython3",
   "version": "3.9.18"
  },
  "orig_nbformat": 4,
  "vscode": {
   "interpreter": {
    "hash": "f8ddcec436ee3fbdbbd806fd811d6ebf38c73d3cbeabe5bb90cec657b3592a38"
   }
  }
 },
 "nbformat": 4,
 "nbformat_minor": 2
}
